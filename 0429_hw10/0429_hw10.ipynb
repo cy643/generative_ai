{
  "nbformat": 4,
  "nbformat_minor": 0,
  "metadata": {
    "colab": {
      "provenance": [],
      "gpuType": "T4",
      "private_outputs": true,
      "collapsed_sections": [
        "Yn2lCLC00ZOV",
        "KZIGLD4y0idi"
      ],
      "include_colab_link": true
    },
    "kernelspec": {
      "name": "python3",
      "display_name": "Python 3"
    },
    "language_info": {
      "name": "python"
    },
    "accelerator": "GPU"
  },
  "cells": [
    {
      "cell_type": "markdown",
      "metadata": {
        "id": "view-in-github",
        "colab_type": "text"
      },
      "source": [
        "<a href=\"https://colab.research.google.com/github/cy643/generative_ai/blob/main/0429_hw10/0429_hw10.ipynb\" target=\"_parent\"><img src=\"https://colab.research.google.com/assets/colab-badge.svg\" alt=\"Open In Colab\"/></a>"
      ]
    },
    {
      "cell_type": "markdown",
      "source": [
        "# 0429_HW10 打造自己的圖像生成Web App\n",
        "\n",
        "## 選用模型 danbrown/RevAnimated-v1-2-2\n",
        "https://huggingface.co/danbrown/RevAnimated-v1-2-2\n",
        "\n",
        "## Prompt\n",
        "1. A portrait of a beautiful young woman\n",
        "\n",
        "2. A cyberpunk ninja warrior with glowing red cybernetic implants, sleek black armor, dual energy katanas, standing in neon-lit alley, rain and fog, futuristic Tokyo  \n",
        "\n",
        "3. A majestic ice dragon standing on a frozen cliff, glowing blue scales, white flowing hair, piercing crystal eyes, fantasy armor made of frost, snowy background\n",
        "\n",
        "4. A steampunk automaton warrior with exposed brass pistons, glowing furnace chest, spiked pauldrons, mechanical limbs, standing in a smoke-filled factory, industrial background"
      ],
      "metadata": {
        "id": "YdVglWFsIKNW"
      }
    },
    {
      "cell_type": "markdown",
      "source": [
        "### 1. 安裝必要套件"
      ],
      "metadata": {
        "id": "Yn2lCLC00ZOV"
      }
    },
    {
      "cell_type": "code",
      "source": [
        "!pip install diffusers transformers accelerate safetensors huggingface_hub gradio --upgrade"
      ],
      "metadata": {
        "id": "RbQso1-V3jEu"
      },
      "execution_count": null,
      "outputs": []
    },
    {
      "cell_type": "code",
      "source": [
        "from diffusers import StableDiffusionPipeline, UniPCMultistepScheduler\n",
        "import torch\n",
        "import gc\n",
        "import matplotlib.pyplot as plt\n",
        "import gradio as gr\n",
        "import random"
      ],
      "metadata": {
        "id": "Uv6Qa39q0gAZ"
      },
      "execution_count": null,
      "outputs": []
    },
    {
      "cell_type": "markdown",
      "source": [
        "萬一需要 HuggingFace Token 時請這樣做"
      ],
      "metadata": {
        "id": "uTAQrntqQufd"
      }
    },
    {
      "cell_type": "code",
      "source": [
        "# from huggingface_hub import login\n",
        "# from google.colab import userdata\n",
        "#\n",
        "# hf_token = userdata.get('HuggingFace')\n",
        "# login(token=hf_token)"
      ],
      "metadata": {
        "id": "qYDkE1CnpVvz"
      },
      "execution_count": null,
      "outputs": []
    },
    {
      "cell_type": "markdown",
      "source": [
        "### 2. 讀入模型"
      ],
      "metadata": {
        "id": "KZIGLD4y0idi"
      }
    },
    {
      "cell_type": "code",
      "source": [
        "model_name = \"danbrown/RevAnimated-v1-2-2\""
      ],
      "metadata": {
        "id": "2Lr8hGzggROl"
      },
      "execution_count": null,
      "outputs": []
    },
    {
      "cell_type": "code",
      "source": [
        "pipe = StableDiffusionPipeline.from_pretrained(\n",
        "    model_name,\n",
        "    torch_dtype=torch.float16\n",
        "    # revision=\"fp16\",  # for SD 1.5 and 2.1\n",
        "    # use_safetensors=True\n",
        ").to(\"cuda\")"
      ],
      "metadata": {
        "id": "K5I-aj2Zln-_"
      },
      "execution_count": null,
      "outputs": []
    },
    {
      "cell_type": "code",
      "source": [
        "pipe.scheduler = UniPCMultistepScheduler.from_config(pipe.scheduler.config)"
      ],
      "metadata": {
        "id": "34ZC_Zsuiytr"
      },
      "execution_count": null,
      "outputs": []
    },
    {
      "cell_type": "markdown",
      "source": [
        "### 3. 生成的函式"
      ],
      "metadata": {
        "id": "oGpMA5u2UYHw"
      }
    },
    {
      "cell_type": "code",
      "source": [
        "def generate_images(prompt, use_enhance, enhance_text, use_negative, negative_text,\n",
        "                    use_custom_seed, custom_seed, height, width, steps, num_images):\n",
        "\n",
        "    height = int(height)\n",
        "    width = int(width)\n",
        "\n",
        "    if height % 8 != 0 or width % 8 != 0:\n",
        "        raise ValueError(\"高度和寬度必須是8的倍數！\")\n",
        "\n",
        "    if use_custom_seed:\n",
        "        base_seed = int(custom_seed)\n",
        "    else:\n",
        "        base_seed = random.randint(0, 2**32 - 1)\n",
        "\n",
        "    seeds = [base_seed + i for i in range(num_images)]\n",
        "\n",
        "    prompts = []\n",
        "    negative_prompts = []\n",
        "    generators = []\n",
        "\n",
        "    final_prompt = prompt\n",
        "    if use_enhance and enhance_text:\n",
        "        final_prompt = prompt + \", \" + enhance_text\n",
        "\n",
        "    final_negative = negative_text if use_negative else None\n",
        "\n",
        "    for seed in seeds:\n",
        "        g = torch.Generator(\"cuda\").manual_seed(seed)\n",
        "        generators.append(g)\n",
        "        prompts.append(final_prompt)\n",
        "        negative_prompts.append(final_negative)\n",
        "\n",
        "    gc.collect()\n",
        "    torch.cuda.empty_cache()\n",
        "\n",
        "    images = []\n",
        "    for i in range(num_images):\n",
        "        with torch.no_grad():\n",
        "            image = pipe(\n",
        "                prompt=prompts[i],\n",
        "                negative_prompt=negative_prompts[i] if final_negative else None,\n",
        "                height=height,\n",
        "                width=width,\n",
        "                num_inference_steps=steps,\n",
        "                guidance_scale=7.5,\n",
        "                generator=generators[i]\n",
        "            ).images[0]\n",
        "            images.append(image)\n",
        "\n",
        "    return images, f\"使用的 random seeds: {seeds}\""
      ],
      "metadata": {
        "id": "zuIfG1bEgUMS"
      },
      "execution_count": null,
      "outputs": []
    },
    {
      "cell_type": "markdown",
      "source": [
        "### 4. 打造 Gradio Web App"
      ],
      "metadata": {
        "id": "TLXztas3jB2f"
      }
    },
    {
      "cell_type": "code",
      "source": [
        "default_enhance = \"masterpiece, ultra high quality, intricate skin details, cinematic lighting, soft lighting, 85mm lens, shallow depth of field, cinematic color grading\"\n",
        "default_negative = \"bad anatomy, blurry, disfigured, poorly drawn hands, extra fingers, mutated hands, low quality, worst quality\"\n",
        "\n",
        "with gr.Blocks(css=\".gradio-container {background-color: #FAFAFA; padding: 20px;} .gr-button {font-size: 18px; background: linear-gradient(to right, #667eea, #764ba2); color: white;}\") as demo:\n",
        "    gr.Markdown(\"\"\"\n",
        "    # 🎨 RevAnimated 互動圖像生成器\n",
        "    歡迎使用！輸入提示詞、選擇設定，立即生成你的遊戲風格作品！\n",
        "    \"\"\")\n",
        "\n",
        "    with gr.Row():\n",
        "        with gr.Column(scale=6):\n",
        "            prompt = gr.Textbox(label=\"Prompt\", placeholder=\"請輸入你的提示詞 (prompt)\", lines=3)\n",
        "            with gr.Row():\n",
        "                use_enhance = gr.Checkbox(label=\"加強 Prompt\", value=True)\n",
        "                enhance_text = gr.Textbox(label=\"加強內容\", value=default_enhance)\n",
        "            with gr.Row():\n",
        "                use_negative = gr.Checkbox(label=\"使用 Negative Prompt\", value=True)\n",
        "                negative_text = gr.Textbox(label=\"Negative Prompt 內容\", value=default_negative)\n",
        "            with gr.Row():\n",
        "                use_custom_seed = gr.Checkbox(label=\"自訂 Random Seed\", value=False)\n",
        "                custom_seed = gr.Number(label=\"指定 seed (選填)\", value=42)\n",
        "            with gr.Row():\n",
        "                height = gr.Dropdown([\"512\", \"768\", \"1024\"], label=\"高度 Height\", value=\"512\")\n",
        "                width = gr.Dropdown([\"512\", \"768\", \"1024\"], label=\"寬度 Width\", value=\"512\")\n",
        "            with gr.Row():\n",
        "                steps = gr.Slider(10, 50, value=20, step=5, label=\"生成步數 (Steps)\")\n",
        "                num_images = gr.Slider(1, 4, step=1, value=1, label=\"生成張數\")\n",
        "            generate_btn = gr.Button(\"🚀 開始生成！\")\n",
        "\n",
        "        with gr.Column(scale=6):\n",
        "            gallery = gr.Gallery(label=\"生成結果\", columns=2, object_fit=\"contain\", height=\"auto\")\n",
        "            seed_info = gr.Label(label=\"使用的 Random Seeds\")\n",
        "\n",
        "    generate_btn.click(\n",
        "        fn=generate_images,\n",
        "        inputs=[prompt, use_enhance, enhance_text, use_negative, negative_text,\n",
        "                use_custom_seed, custom_seed, height, width, steps, num_images],\n",
        "        outputs=[gallery, seed_info]\n",
        "    )"
      ],
      "metadata": {
        "id": "bE4m42oMjBTd"
      },
      "execution_count": null,
      "outputs": []
    },
    {
      "cell_type": "code",
      "source": [
        "demo.launch(share=True, debug=True)"
      ],
      "metadata": {
        "id": "a9gcTEvQly7d"
      },
      "execution_count": null,
      "outputs": []
    }
  ]
}